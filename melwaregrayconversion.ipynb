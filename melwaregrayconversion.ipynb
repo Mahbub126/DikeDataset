{
 "cells": [
  {
   "cell_type": "code",
   "execution_count": null,
   "id": "9b0c53cc",
   "metadata": {},
   "outputs": [],
   "source": [
    "from os import listdir\n",
    "from PIL import Image\n",
    "import os.path\n",
    "import numpy as np\n",
    "\n",
    "path = 'C:/Users/Mahbub/Desktop/PHD FOLDER CONFIDENTIAL/Melware/DikeDataset/files/malware'\n",
    "\n",
    "h = 256 #height of image\n",
    "w = 256 #width of image\n",
    "\n",
    "#be careful with using this function, it will consume memory, access to disk and time\n",
    "images = []\n",
    "for f in listdir(path):\n",
    "  with open(os.path.join(path, f), 'rb') as img_set:\n",
    "      img_arr = img_set.read(h*w)\n",
    "      while img_arr:\n",
    "          if len(img_arr) == h*w and img_arr not in images:\n",
    "              images.append(img_arr)\n",
    "          img_arr = img_set.read(h*w)\n",
    "\n",
    "#And you can save them into png files\n",
    "count = 0\n",
    "for img in images:\n",
    "    png = Image.fromarray(np.reshape(list(img), (h,w)).astype('float32'), mode='L')\n",
    "    png.save('image_l%d.png'%count)\n",
    "    count += 1"
   ]
  }
 ],
 "metadata": {
  "kernelspec": {
   "display_name": "Python 3 (ipykernel)",
   "language": "python",
   "name": "python3"
  },
  "language_info": {
   "codemirror_mode": {
    "name": "ipython",
    "version": 3
   },
   "file_extension": ".py",
   "mimetype": "text/x-python",
   "name": "python",
   "nbconvert_exporter": "python",
   "pygments_lexer": "ipython3",
   "version": "3.9.13"
  }
 },
 "nbformat": 4,
 "nbformat_minor": 5
}
