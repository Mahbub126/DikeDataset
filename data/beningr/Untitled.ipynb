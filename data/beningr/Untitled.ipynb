{
 "cells": [
  {
   "cell_type": "code",
   "execution_count": 7,
   "id": "0be48337",
   "metadata": {},
   "outputs": [],
   "source": [
    "from os import listdir\n",
    "from PIL import Image\n",
    "import os.path\n",
    "import numpy as np\n",
    "\n",
    "path = 'C:/Users/Mahbub/Desktop/PHD FOLDER CONFIDENTIAL/Melware/DikeDataset/files/benign'\n",
    "\n",
    "h = 256 #height of image\n",
    "w = 256 #width of image"
   ]
  },
  {
   "cell_type": "code",
   "execution_count": 9,
   "id": "facf250d",
   "metadata": {},
   "outputs": [],
   "source": [
    "#be careful with using this function, it will consume memory, access to disk and time\n",
    "images = []\n",
    "for f in listdir(path):\n",
    "  with open(os.path.join(path, f), 'rb') as img_set:\n",
    "      img_arr = img_set.read(h*w)\n",
    "      while img_arr:\n",
    "          if len(img_arr) == h*w and img_arr not in images:\n",
    "              images.append(img_arr)\n",
    "          img_arr = img_set.read(h*w)"
   ]
  },
  {
   "cell_type": "code",
   "execution_count": 10,
   "id": "c1667c9e",
   "metadata": {},
   "outputs": [],
   "source": [
    "#And you can save them into png files\n",
    "count = 0\n",
    "for img in images:\n",
    "    png = Image.fromarray(np.reshape(list(img), (h,w)).astype('float32'), mode='L')\n",
    "    png.save('image_l%d.png'%count)\n",
    "    count += 1"
   ]
  },
  {
   "cell_type": "code",
   "execution_count": 38,
   "id": "e454162c",
   "metadata": {},
   "outputs": [
    {
     "ename": "NameError",
     "evalue": "name 'image_l1' is not defined",
     "output_type": "error",
     "traceback": [
      "\u001b[1;31m---------------------------------------------------------------------------\u001b[0m",
      "\u001b[1;31mNameError\u001b[0m                                 Traceback (most recent call last)",
      "Input \u001b[1;32mIn [38]\u001b[0m, in \u001b[0;36m<cell line: 3>\u001b[1;34m()\u001b[0m\n\u001b[0;32m      1\u001b[0m \u001b[38;5;28;01mimport\u001b[39;00m \u001b[38;5;21;01mmatplotlib\u001b[39;00m\u001b[38;5;21;01m.\u001b[39;00m\u001b[38;5;21;01mpyplot\u001b[39;00m \u001b[38;5;28;01mas\u001b[39;00m \u001b[38;5;21;01mplt\u001b[39;00m\n\u001b[0;32m      2\u001b[0m \u001b[38;5;28;01mimport\u001b[39;00m \u001b[38;5;21;01mnumpy\u001b[39;00m \u001b[38;5;28;01mas\u001b[39;00m \u001b[38;5;21;01mnp\u001b[39;00m\n\u001b[1;32m----> 3\u001b[0m \u001b[43mimage_l1\u001b[49m\u001b[38;5;241m.\u001b[39mpng\n",
      "\u001b[1;31mNameError\u001b[0m: name 'image_l1' is not defined"
     ]
    }
   ],
   "source": [
    "import matplotlib.pyplot as plt\n",
    "import numpy as np\n"
   ]
  },
  {
   "cell_type": "code",
   "execution_count": 11,
   "id": "428883f4",
   "metadata": {},
   "outputs": [],
   "source": [
    "import keras\n",
    "from keras.models import Sequential\n",
    "from keras.layers import Dense, Dropout, Activation, Flatten\n",
    "from keras.layers import Conv2D, MaxPooling2D\n",
    "import numpy as np\n",
    "\n",
    "#reshape images to fit into the CNN model\n",
    "img_list = np.zeros(shape = (len(images), h,w,1), dtype = np.uint8)\n",
    "for j in range(len(images)):\n",
    "    img_list[j,:,:,0] = np.reshape(list(images[j]), (h,w))\n",
    "    \n",
    "img_list = img_list.astype('float32')\n",
    "img_list /= 255"
   ]
  },
  {
   "cell_type": "code",
   "execution_count": 33,
   "id": "27f81477",
   "metadata": {},
   "outputs": [],
   "source": [
    "import matplotlib.pyplot as plt\n",
    "import numpy as np\n"
   ]
  },
  {
   "cell_type": "code",
   "execution_count": 12,
   "id": "6e19562b",
   "metadata": {},
   "outputs": [
    {
     "name": "stdout",
     "output_type": "stream",
     "text": [
      "Model: \"sequential\"\n",
      "_________________________________________________________________\n",
      " Layer (type)                Output Shape              Param #   \n",
      "=================================================================\n",
      " conv2d (Conv2D)             (None, 256, 256, 12)      7512      \n",
      "                                                                 \n",
      " conv2d_1 (Conv2D)           (None, 232, 232, 12)      90012     \n",
      "                                                                 \n",
      " max_pooling2d (MaxPooling2D  (None, 116, 116, 12)     0         \n",
      " )                                                               \n",
      "                                                                 \n",
      " conv2d_2 (Conv2D)           (None, 116, 116, 12)      24348     \n",
      "                                                                 \n",
      " conv2d_3 (Conv2D)           (None, 104, 104, 12)      24348     \n",
      "                                                                 \n",
      " max_pooling2d_1 (MaxPooling  (None, 52, 52, 12)       0         \n",
      " 2D)                                                             \n",
      "                                                                 \n",
      " flatten (Flatten)           (None, 32448)             0         \n",
      "                                                                 \n",
      " dense (Dense)               (None, 1024)              33227776  \n",
      "                                                                 \n",
      " dense_1 (Dense)             (None, 1)                 1025      \n",
      "                                                                 \n",
      "=================================================================\n",
      "Total params: 33,375,021\n",
      "Trainable params: 33,375,021\n",
      "Non-trainable params: 0\n",
      "_________________________________________________________________\n"
     ]
    }
   ],
   "source": [
    "model = Sequential()\n",
    "#Conv2D Layers\n",
    "model.add(Conv2D(12, (25, 25), padding='same',input_shape=img_list.shape[1:], activation = 'relu'))\n",
    "model.add(Conv2D(12, (25, 25), activation = 'relu'))\n",
    "#Max Pooling Layer\n",
    "model.add(MaxPooling2D(pool_size=(2, 2)))\n",
    "#Conv2D Layer\n",
    "model.add(Conv2D(12, (13, 13), padding='same', activation = 'relu'))\n",
    "model.add(Conv2D(12, (13, 13), activation = 'relu'))\n",
    "#Max Pooling\n",
    "model.add(MaxPooling2D(pool_size=(2, 2)))\n",
    "#Flattening Layer\n",
    "model.add(Flatten())\n",
    "#Dense Layer\n",
    "model.add(Dense(1024, activation = 'relu'))\n",
    "model.add(Dense(1, activation = 'sigmoid'))\n",
    "\n",
    "model.compile(loss='binary_crossentropy',\n",
    "              optimizer='adam',\n",
    "              metrics=['binary_accuracy'])\n",
    "\n",
    "model.summary()"
   ]
  },
  {
   "cell_type": "code",
   "execution_count": null,
   "id": "8409fa9b",
   "metadata": {},
   "outputs": [],
   "source": []
  }
 ],
 "metadata": {
  "kernelspec": {
   "display_name": "Python 3 (ipykernel)",
   "language": "python",
   "name": "python3"
  },
  "language_info": {
   "codemirror_mode": {
    "name": "ipython",
    "version": 3
   },
   "file_extension": ".py",
   "mimetype": "text/x-python",
   "name": "python",
   "nbconvert_exporter": "python",
   "pygments_lexer": "ipython3",
   "version": "3.9.13"
  }
 },
 "nbformat": 4,
 "nbformat_minor": 5
}
